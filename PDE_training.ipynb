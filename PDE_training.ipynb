{
 "cells": [
  {
   "cell_type": "markdown",
   "metadata": {},
   "source": [
    "Francisco Hernandez Alejandre\n",
    "\n",
    "Octavio Guerrero"
   ]
  },
  {
   "cell_type": "markdown",
   "metadata": {},
   "source": [
    "# Partial Differential Equation Training"
   ]
  },
  {
   "cell_type": "code",
   "execution_count": 1,
   "metadata": {},
   "outputs": [],
   "source": [
    "%matplotlib inline\n",
    "import matplotlib.pyplot as plt\n",
    "import numpy as np"
   ]
  },
  {
   "cell_type": "markdown",
   "metadata": {},
   "source": [
    "## 1 Linear Convection"
   ]
  },
  {
   "cell_type": "markdown",
   "metadata": {},
   "source": [
    "The 1-D Linear Convection equation is the simplest, most basic model for PDEs. Here it is:\n",
    "$\\frac{\\partial u}{\\partial t}+c\\frac{\\partial u}{\\partial x}=0$.\n",
    "c is a velocity, whereas u can be any advected quantity. For example it can be the concentration of some polutant in a river flowing at speed c.\n"
   ]
  },
  {
   "cell_type": "markdown",
   "metadata": {},
   "source": [
    "With given initial conditions (understood as a wave), the equation represents the propagation of that initial wave with speed c along the X axis\n",
    ", without change of shape. Let the initial condition be $u(x,0)=u_0 (x)$\n",
    ". Then the exact solution of the equation is $u(x,t)=u_0(x−ct)$\n",
    "(See lecture this morning).\n",
    "\n",
    "\n",
    "We discretize this equation in both space and time, using the Forward Difference scheme for the time derivative and the Backward Difference scheme for the space derivative. Consider discretizing the spatial coordinate x  into points that we index from $i=0$ to $N$ , and stepping in discrete time intervals of size $dt$.\n",
    "\n",
    "\n"
   ]
  },
  {
   "cell_type": "markdown",
   "metadata": {},
   "source": [
    "We use the following convention : $U^{n}_i$ is the amplitude of the wave at time $t=n \\times dt$, and at $x=i \\times dx$"
   ]
  },
  {
   "cell_type": "markdown",
   "metadata": {},
   "source": [
    "How woud you approximate $\\frac{\\partial u}{\\partial t}$ , using $U^{n}_i$, with a forward difference sheme ?"
   ]
  },
  {
   "cell_type": "markdown",
   "metadata": {},
   "source": [
    "$\\frac{\\partial u}{\\partial t}= \\frac{U^{n+1}_i-U^{n}_i}{dt}$"
   ]
  },
  {
   "cell_type": "markdown",
   "metadata": {},
   "source": [
    "How woud you approximate $\\frac{\\partial u}{\\partial x}$ , using $U^{n}_i$, with a backward difference sheme ?\n"
   ]
  },
  {
   "cell_type": "markdown",
   "metadata": {},
   "source": [
    "$\\frac{\\partial u}{\\partial x}= \\frac{U^{}_i-U^{n}_{i-1}}{dx}$"
   ]
  },
  {
   "cell_type": "markdown",
   "metadata": {},
   "source": [
    "Write the first order explicit integration scheme we will use, in function of $U^{n}_i$, c, dt, dx, $U^{n}_i$ and $U^{n}_{i-1}$"
   ]
  },
  {
   "cell_type": "markdown",
   "metadata": {},
   "source": [
    "$U^{n+1}_i =U^{n}_i -(\\frac{cdt}{dx})(U^{n}_i-U^{n}_{i-1}) $ "
   ]
  },
  {
   "cell_type": "markdown",
   "metadata": {},
   "source": [
    "Now let's try implementing this in Python."
   ]
  },
  {
   "cell_type": "markdown",
   "metadata": {},
   "source": [
    "We want to define an evenly spaced grid of points within a  domain that is 2 units of length wide, i.e., 0<x_i<2. Vafiable $nx$ which will be the number of grid points we want and dx will be the distance between two adjacent grid points. we define the following values "
   ]
  },
  {
   "cell_type": "code",
   "execution_count": 2,
   "metadata": {},
   "outputs": [],
   "source": [
    "nx = 41  # This will be changed latter\n",
    "dx = 2 / (nx-1)\n",
    "nt = 25    #nt is the number of timesteps we want to calculate\n",
    "Delta_T=0.625 # time of integration\n",
    "dt = Delta_T/(nt*1.0) #dt is lentgh  of each time step \n",
    "c = 1      #assume advection velocity  is c = 1"
   ]
  },
  {
   "cell_type": "markdown",
   "metadata": {},
   "source": [
    "We also need to set up our initial conditions. The initial concentration u0\n",
    " is given as  u=2 in the interval 0.5≤x≤1 and u=1\n",
    " everywhere else in (0,2)  (i.e., a hat function). Build U"
   ]
  },
  {
   "cell_type": "code",
   "execution_count": 3,
   "metadata": {},
   "outputs": [],
   "source": [
    "def U_function(x):\n",
    "    if x>=0.5 and x<=1:\n",
    "        return 2\n",
    "    else:\n",
    "        return 1\n",
    "    "
   ]
  },
  {
   "cell_type": "code",
   "execution_count": 4,
   "metadata": {},
   "outputs": [
    {
     "data": {
      "image/png": "[encoded data removed]",
      "text/plain": [
       "<Figure size 432x288 with 1 Axes>"
      ]
     },
     "metadata": {
      "needs_background": "light"
     },
     "output_type": "display_data"
    }
   ],
   "source": [
    "#plot, U, your initial concentration profile.\n",
    "points = np.arange(0,2+0.1,0.1)\n",
    "plt.plot(points, np.array([U_function(i) for i in points]))\n",
    "plt.xlabel(\"x\")\n",
    "plt.ylabel(\"U\")\n",
    "plt.show()\n"
   ]
  },
  {
   "cell_type": "code",
   "execution_count": 5,
   "metadata": {},
   "outputs": [
    {
     "data": {
      "image/png": "[encoded data removed]",
      "text/plain": [
       "<Figure size 432x288 with 1 Axes>"
      ]
     },
     "metadata": {
      "needs_background": "light"
     },
     "output_type": "display_data"
    }
   ],
   "source": [
    "#plot, U, your initial concentration profile.\n",
    "points = np.arange(0,2+0.01,0.01)\n",
    "plt.plot(points, np.array([U_function(i) for i in points]))\n",
    "plt.xlabel(\"x\")\n",
    "plt.ylabel(\"U\")\n",
    "plt.show()\n"
   ]
  },
  {
   "cell_type": "markdown",
   "metadata": {},
   "source": [
    "Why doesn't the hat function have perfectly straight sides? Think for a bit."
   ]
  },
  {
   "cell_type": "code",
   "execution_count": 6,
   "metadata": {},
   "outputs": [],
   "source": [
    "#From the graphics above one can notice that the lines get more straight when we introduce smaller steps in x axis. So, for larger x steps one can\n",
    "#say that the function is not taking a good approximation and has missing points that prevent the solution to be exact"
   ]
  },
  {
   "cell_type": "markdown",
   "metadata": {},
   "source": [
    "Now we miplement the discretization of the convection equation using a finite-difference scheme. For every element i of our array $U^{n}_i$ we need to perform the operation define above ($U^{n+1}_i$).  We'll store the result in a new (temporary) array Un, which will be the next state of U  for the next time-step. We will repeat this operation for as many time-steps as we specify and then we can see how far the concentration profile has convected.\n",
    "\n",
    "We will need also boundary conditions, so for the moment we will only use periodic boundary conditions (what leaves from the right, re-enters at the left)\n",
    "\n",
    " The code's structure is the following :\n",
    " \n",
    " 1) define U at time =0, dt, dx, c etc...\n",
    " \n",
    " 2) compute Un as a function of U and all other information.\n",
    " \n",
    " 3) Take care of boundary conditions at the edges \n",
    " \n",
    " 4) Time=Time+dt\n",
    " \n",
    " 5) go back to 2\n",
    " "
   ]
  },
  {
   "cell_type": "markdown",
   "metadata": {},
   "source": [
    "Boundary conditions: Explain how you compute $U^{n}_0$ and $U^{N}_i$ ?"
   ]
  },
  {
   "cell_type": "code",
   "execution_count": 7,
   "metadata": {},
   "outputs": [],
   "source": [
    "#The first case is given by the boundary conditions at t=0, so it's given by the problem itself\n",
    "#For the second, we get it from known elements of the array. In the first step it takes the form of U_0"
   ]
  },
  {
   "cell_type": "markdown",
   "metadata": {},
   "source": [
    "Write the code..."
   ]
  },
  {
   "cell_type": "code",
   "execution_count": 8,
   "metadata": {},
   "outputs": [],
   "source": [
    "def U_n(interval, dx, dt,nt,nx,c):\n",
    "    #Our initial values are given by an array of the initial conditions over the interval, so we have a start point to calculate the periodic boundary conditions\n",
    "    points = np.linspace(interval[0],interval[1],nx)\n",
    "    values_matrix = np.ones((nt,nx))\n",
    "    values_matrix[0,:] = np.array([U_function(i) for i in points])\n",
    "    #First we run over the time, and then we calculate the spacial values running a for loop over the number of spacial steps \n",
    "    for i in range(nt-1):\n",
    "        for j in range(1,nx-1):\n",
    "            values_matrix[i+1,j] = values_matrix[i,j] - (c*dt/dx)*(values_matrix[i,j] - values_matrix[i,j-1])\n",
    "    return {'values':values_matrix, 'x_points':points}\n",
    "\n"
   ]
  },
  {
   "cell_type": "code",
   "execution_count": 9,
   "metadata": {},
   "outputs": [
    {
     "data": {
      "image/png": "[encoded data removed]",
      "text/plain": [
       "<Figure size 432x288 with 1 Axes>"
      ]
     },
     "metadata": {
      "needs_background": "light"
     },
     "output_type": "display_data"
    }
   ],
   "source": [
    "#PLot U at different times: 3 time steps, 12 time steps, 25 time steps\n",
    "\n",
    "# 3 time steps\n",
    "nt = 3  #nt is the number of timesteps we want to calculate\n",
    "dt = Delta_T/(nt*1.0) #dt is lentgh  of each time step \n",
    "results_3 = U_n([0,2],dx, dt,nt,nx,c)\n",
    "\n",
    "#Let's graph at every time step to see the evolution of the matrix\n",
    "for item in range(len(results_3['values'])):\n",
    "    plt.plot(results_3['x_points']-item*dt, results_3['values'][item], 'b') #We substract item*dt on every step to center all graphs\n",
    "\n",
    "plt.xlabel('x steps')\n",
    "plt.ylabel('U')\n",
    "plt.show()\n"
   ]
  },
  {
   "cell_type": "code",
   "execution_count": 10,
   "metadata": {},
   "outputs": [
    {
     "data": {
      "image/png": "[encoded data removed]",
      "text/plain": [
       "<Figure size 432x288 with 1 Axes>"
      ]
     },
     "metadata": {
      "needs_background": "light"
     },
     "output_type": "display_data"
    }
   ],
   "source": [
    "# 12 time steps\n",
    "nt = 12  #nt is the number of timesteps we want to calculate\n",
    "dt = Delta_T/(nt*1.0) #dt is lentgh  of each time step \n",
    "results_12 = U_n([0,2],dx, dt,nt,nx,c)\n",
    "\n",
    "#Let's graph at every time step to see the evolution of the matrix\n",
    "for item in range(len(results_12['values'])):\n",
    "    plt.plot(results_12['x_points']-item*dt, results_12['values'][item], 'b')\n",
    "\n",
    "plt.xlabel('x steps')\n",
    "plt.ylabel('U')\n",
    "plt.show()"
   ]
  },
  {
   "cell_type": "code",
   "execution_count": 11,
   "metadata": {},
   "outputs": [
    {
     "data": {
      "image/png": "[encoded data removed]",
      "text/plain": [
       "<Figure size 432x288 with 1 Axes>"
      ]
     },
     "metadata": {
      "needs_background": "light"
     },
     "output_type": "display_data"
    }
   ],
   "source": [
    "# 25 time steps\n",
    "nt = 25  #nt is the number of timesteps we want to calculate\n",
    "dt = Delta_T/(nt*1.0) #dt is lentgh  of each time step \n",
    "results_25 = U_n([0,2],dx, dt,nt,nx,c)\n",
    "\n",
    "#Let's graph at every time step to see the evolution of the matrix\n",
    "\n",
    "for item in range(len(results_25['values'])):\n",
    "    plt.plot(results_25['x_points']-item*dt, results_25['values'][item], 'b')\n",
    "\n",
    "plt.xlabel('x steps')\n",
    "plt.ylabel('U')\n",
    "plt.show()"
   ]
  },
  {
   "cell_type": "code",
   "execution_count": 12,
   "metadata": {},
   "outputs": [],
   "source": [
    "#What do you notice ? comment on what you see"
   ]
  },
  {
   "cell_type": "code",
   "execution_count": 13,
   "metadata": {},
   "outputs": [],
   "source": [
    "#We notice that the convergence to a \"Gaussian\" form improves when increasing time steps. This is because we're increasing the number of points to evaluate.\n",
    "\n",
    "#Just like when studying ODE, the number of steps determine the precision of our calculation. "
   ]
  },
  {
   "cell_type": "markdown",
   "metadata": {},
   "source": [
    "What is the value of CFL=dt C / dx ? "
   ]
  },
  {
   "cell_type": "code",
   "execution_count": 14,
   "metadata": {},
   "outputs": [
    {
     "name": "stdout",
     "output_type": "stream",
     "text": [
      "CFL= 0.5\n"
     ]
    }
   ],
   "source": [
    "CFL = dt * c/dx\n",
    "print(\"CFL=\",CFL)"
   ]
  },
  {
   "cell_type": "markdown",
   "metadata": {},
   "source": []
  },
  {
   "cell_type": "markdown",
   "metadata": {},
   "source": [
    "Redo the same computation, vayring dt , for CFL>1. and CFL << 1"
   ]
  },
  {
   "cell_type": "code",
   "execution_count": 15,
   "metadata": {},
   "outputs": [
    {
     "name": "stdout",
     "output_type": "stream",
     "text": [
      "For nt= 10, CFL= 1.25\n",
      "For nt= 100, CFL= 0.125\n"
     ]
    }
   ],
   "source": [
    "nt = 10  #nt is the number of timesteps we want to calculate\n",
    "dt = Delta_T/(nt*1.0) #dt is lentgh  of each time step \n",
    "CFL = dt * c/dx\n",
    "print(\"For nt= 10, CFL=\",CFL)\n",
    "nt = 100  #nt is the number of timesteps we want to calculate\n",
    "dt = Delta_T/(nt*1.0) #dt is lentgh  of each time step \n",
    "CFL = dt * c/dx\n",
    "print(\"For nt= 100, CFL=\",CFL)"
   ]
  },
  {
   "cell_type": "code",
   "execution_count": 16,
   "metadata": {},
   "outputs": [],
   "source": [
    "#What do you notice ? What is the the good integration conditions ?"
   ]
  },
  {
   "cell_type": "code",
   "execution_count": 17,
   "metadata": {},
   "outputs": [],
   "source": [
    "#We notice that for CFL << 1 the results are more stable. This is because we need short time steps to have better transmission of length dx. "
   ]
  },
  {
   "cell_type": "code",
   "execution_count": 18,
   "metadata": {},
   "outputs": [],
   "source": [
    "#Now redo the computation, with CFL>1 and using an initial U that is gaussian."
   ]
  },
  {
   "cell_type": "code",
   "execution_count": 33,
   "metadata": {},
   "outputs": [
    {
     "data": {
      "image/png": "[encoded data removed]",
      "text/plain": [
       "<Figure size 432x288 with 1 Axes>"
      ]
     },
     "metadata": {
      "needs_background": "light"
     },
     "output_type": "display_data"
    }
   ],
   "source": [
    "#Let's take \n",
    "u_0 = results_25['values'][24] #This is gaussian as we noticed on the graphics above\n",
    "nt = 12  #nt fot CFL > 1\n",
    "dt = Delta_T/(nt*1.0) #dt is lentgh  of each time step \n",
    "def U_n_gaussian_init(interval, dx, dt,nt,nx,c,u_0):\n",
    "    #Our initial values are given by an array of the initial conditions over the interval, so we have a start point to calculate the periodic boundary conditions\n",
    "    points = np.linspace(interval[0],interval[1],nx)\n",
    "    values_matrix = np.ones((nt,nx))\n",
    "    values_matrix[0,:] = np.array(u_0)\n",
    "    #First we run over the time, and then we calculate the spacial values running a for loop over the number of spacial steps \n",
    "    for i in range(nt-1):\n",
    "        for j in range(1,nx-1):\n",
    "            values_matrix[i+1,j] = values_matrix[i,j] - (c*dt/dx)*(values_matrix[i,j] - values_matrix[i,j-1])\n",
    "    return {'values':values_matrix, 'x_points':points}\n",
    "\n",
    "values_gaussian = U_n_gaussian_init([0,2],dx, dt,nt,nx,c,u_0)\n",
    "\n",
    "#Let's graph at every time step to see the evolution of the matrix\n",
    "for item in range(len(values_gaussian['values'])):\n",
    "    plt.plot(values_gaussian['x_points']-item*dt, values_gaussian['values'][item], 'b')\n",
    "\n",
    "\n",
    "plt.xlabel('x steps')\n",
    "plt.ylabel('U')\n",
    "plt.show()\n"
   ]
  },
  {
   "cell_type": "code",
   "execution_count": 20,
   "metadata": {},
   "outputs": [],
   "source": [
    "#What do you notice ?"
   ]
  },
  {
   "cell_type": "code",
   "execution_count": 21,
   "metadata": {},
   "outputs": [],
   "source": [
    "#We get better results by introducing inicial conditions that match the desired results. Also, we notice that because the Gaussian moves to the right\n",
    "#our graphs get cropped when they reach the limit of the interva, in this case 2. "
   ]
  },
  {
   "cell_type": "markdown",
   "metadata": {},
   "source": [
    " Redo the same thing using a 2nd order accuracy expression for the space derivative, and 1st order accuracy expression for the time derivative\n",
    "    like leap frog."
   ]
  },
  {
   "cell_type": "code",
   "execution_count": 48,
   "metadata": {},
   "outputs": [
    {
     "data": {
      "image/png": "[encoded data removed]",
      "text/plain": [
       "<Figure size 432x288 with 1 Axes>"
      ]
     },
     "metadata": {
      "needs_background": "light"
     },
     "output_type": "display_data"
    }
   ],
   "source": [
    "u_0 = results_25['values'][12] #This is gaussian as we noticed on the graphics above\n",
    "def U_n_second_order(interval,dx, dt,nt,nx,c,u_0):\n",
    "    #Our initial values are given by an array of the initial conditions over the interval, so we have a start point to calculate the periodic boundary conditions\n",
    "    points = np.linspace(interval[0],interval[1],nx)\n",
    "    values_matrix = np.ones((nt,nx))\n",
    "    #values_matrix[0,:] = np.array([U_function(i) for i in points])\n",
    "    values_matrix[0,:] = np.array(u_0)\n",
    "    #First we run over the time, and then we calculate the spacial values running a for loop over the number of spacial steps \n",
    "    for i in range(nt-1):\n",
    "        for j in range(1,nx-1):\n",
    "            if i == 0:\n",
    "                values_matrix[i+1,j] = values_matrix[i,j] - (c*dt/dx)*(values_matrix[i,j] - values_matrix[i,j-1])\n",
    "            else:\n",
    "                values_matrix[i+1,j] = values_matrix[i-1,j] - (c*dt/dx)*(values_matrix[i,j+1] - values_matrix[i,j-1])\n",
    "    return {'values':values_matrix, 'x_points':points}\n",
    "\n",
    "nt = 17  #nt fot CFL > 1\n",
    "dt = Delta_T/(nt*1.0) #dt is lentgh  of each time step \n",
    "results = U_n_second_order([0,2],dx, dt,nt,nx,c, u_0)\n",
    "\n",
    "for item in range(len(results['values'])):\n",
    "        plt.plot(results['x_points']-item*dt, results['values'][item])\n",
    "\n",
    "plt.xlabel('x steps')\n",
    "plt.ylabel('U')\n",
    "plt.show()"
   ]
  },
  {
   "cell_type": "markdown",
   "metadata": {},
   "source": [
    "Comment ?"
   ]
  },
  {
   "cell_type": "code",
   "execution_count": 23,
   "metadata": {},
   "outputs": [],
   "source": [
    "#The approximation is good, but it starts to act somewhat messy at latest steps because it tries to predict a behaviour outside the interval we're working on. "
   ]
  }
 ],
 "metadata": {
  "interpreter": {
   "hash": "aee8b7b246df8f9039afb4144a1f6fd8d2ca17a180786b69acc140d282b71a49"
  },
  "kernelspec": {
   "display_name": "Python 3.9.6 64-bit",
   "name": "python3"
  },
  "language_info": {
   "codemirror_mode": {
    "name": "ipython",
    "version": 3
   },
   "file_extension": ".py",
   "mimetype": "text/x-python",
   "name": "python",
   "nbconvert_exporter": "python",
   "pygments_lexer": "ipython3",
   "version": "3.9.6"
  }
 },
 "nbformat": 4,
 "nbformat_minor": 2
}
